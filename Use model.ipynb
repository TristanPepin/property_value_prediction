{
 "cells": [
  {
   "cell_type": "code",
   "execution_count": 1,
   "id": "ba822b3e",
   "metadata": {},
   "outputs": [],
   "source": [
    "import geopy as geopy\n",
    "import pickle\n",
    "from geopy.geocoders import Nominatim\n",
    "from tensorflow import keras\n",
    "from Functions.add_datas import create_dataset_initial,add_specific_datas,merge_datas_communes,add_datas_NN,add_distances_education,add_distances_commerces,add_distance_transports"
   ]
  },
  {
   "cell_type": "code",
   "execution_count": 16,
   "id": "28994e24",
   "metadata": {},
   "outputs": [],
   "source": [
    "idf =  [91,92,93,77,78,94,95,75]\n",
    "specific_models = ['lyon','marseille',75]"
   ]
  },
  {
   "cell_type": "code",
   "execution_count": 17,
   "id": "f483fd86",
   "metadata": {},
   "outputs": [],
   "source": [
    "adresse = '36 avenue du maréchal douglas haig'\n",
    "code_postal = 78000\n",
    "\n",
    "surface_reelle_bati = 200\n",
    "nombre_pieces_principales = 7\n",
    "surface_terrain = 500\n",
    "type_local = 'Maison'\n",
    "\n",
    "departement = 78"
   ]
  },
  {
   "cell_type": "code",
   "execution_count": 18,
   "id": "86ad2ade",
   "metadata": {
    "scrolled": true
   },
   "outputs": [
    {
     "name": "stdout",
     "output_type": "stream",
     "text": [
      "------------------------\n",
      "\n",
      "Ajout des données...\n",
      "\n",
      "------------------------\n",
      "36, Avenue du Maréchal Douglas Haig, Clagny Glatigny, Versailles, Yvelines, Île-de-France, France métropolitaine, 78000, France\n",
      "Début du calcul des habitations les plus proches, calcul du prix du voisinage...\n",
      "Calcul des lycées les plus proches...\n",
      "Calcul des maternelles les plus proches...\n",
      "Calcul des écoles élémentaires les plus proches...\n",
      "Calcul des collèges les plus proches...\n",
      "Calcul des Etablissements supérieurs les plus proches...\n",
      "Calcul du super/hyper marché le plus proche...\n",
      "Calcul de la boulangerie la plus proche...\n",
      "Calcul de la boucherie ou poissonerie la plus proche...\n",
      "Calcul de la poste la plus proche...\n",
      "Calcul de la pharmacie la plus proche...\n",
      "Calcul de l'aéroport le plus proche...\n",
      "Calcul du musée, cinéma ou conservatoire le plus proche...\n",
      "Calcul du généraliste le plus proche...\n",
      "Calcul du centre de santé le plus proche...\n",
      "Calcul de la banque la plus proche...\n",
      "Calcul du service d'urgences le plus proche...\n",
      "Calcul du spécialiste le plus proche...\n",
      "Calcul du dentise le plus proche...\n",
      "Calcul du service infirmier le plus proche...\n",
      "Calcul de la crèche la plus proche...\n",
      "Calcul de la gare la plus proche...\n"
     ]
    }
   ],
   "source": [
    "print('------------------------')\n",
    "print()\n",
    "print('Ajout des données...')\n",
    "print()\n",
    "print('------------------------')\n",
    "\n",
    "df = create_dataset_initial(adresse,code_postal,type_local,surface_reelle_bati,nombre_pieces_principales,surface_terrain,departement)\n",
    "df = merge_datas_communes(df)\n",
    "df = add_datas_NN(df,departement)\n",
    "df = add_distances_education(df,evaluation=True)\n",
    "df = add_distances_commerces(df,evaluation=True)\n",
    "\n",
    "if departement in idf :\n",
    "    df = add_distance_transports(df,evaluation=True)\n",
    "    \n",
    "if departement in specific_models : \n",
    "    df = add_specific_datas(df,departement)"
   ]
  },
  {
   "cell_type": "code",
   "execution_count": 19,
   "id": "465c24e7",
   "metadata": {},
   "outputs": [
    {
     "name": "stdout",
     "output_type": "stream",
     "text": [
      "------------------------\n",
      "Prediction de valeur foncière LGBM : 1538405 euros.\n",
      "Prediction de valeur foncière keras : 1417160 euros.\n",
      "------------------------\n"
     ]
    }
   ],
   "source": [
    "pipeline_lgbm = pickle.load(open('./Models/models/Pipeline_LGBM_{}.sav'.format(departement), 'rb'))\n",
    "preprocess_keras = pickle.load(open('./Models/models/preprocessor_keras_{}.sav'.format(departement), 'rb'))\n",
    "keras_regressor = keras.models.load_model('./Models/models/keras_{}.h5'.format(departement))\n",
    "features = pickle.load(open('./Models/models/features_{}.txt'.format(departement), 'rb'))\n",
    "\n",
    "if departement not in ['lyon','marseille',75] : \n",
    "    df['nb_transac_quarter'] = df['nb_transac_quarter_x']\n",
    "    \n",
    "df = df[features[0]]\n",
    "\n",
    "pred_lgbm = pipeline_lgbm.predict(df)[0]*df.surface_reelle_bati.values[0]\n",
    "pred_keras = keras_regressor.predict(preprocess_keras.transform(df))*df.surface_reelle_bati.values[0]\n",
    "\n",
    "print('------------------------')\n",
    "print(\"Prediction de valeur foncière LGBM : {} euros.\".format(round(pred_lgbm)))\n",
    "print(\"Prediction de valeur foncière keras : {} euros.\".format(round(pred_keras[0][0])))\n",
    "print('------------------------')"
   ]
  }
 ],
 "metadata": {
  "kernelspec": {
   "display_name": "Python 3",
   "language": "python",
   "name": "python3"
  },
  "language_info": {
   "codemirror_mode": {
    "name": "ipython",
    "version": 3
   },
   "file_extension": ".py",
   "mimetype": "text/x-python",
   "name": "python",
   "nbconvert_exporter": "python",
   "pygments_lexer": "ipython3",
   "version": "3.7.7"
  }
 },
 "nbformat": 4,
 "nbformat_minor": 5
}
